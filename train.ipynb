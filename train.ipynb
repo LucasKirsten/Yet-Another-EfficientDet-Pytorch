{
 "cells": [
  {
   "cell_type": "code",
   "execution_count": null,
   "metadata": {},
   "outputs": [],
   "source": [
    "!mkdir datasets datasets/coco\n",
    "!ln -s /datasets/dataset/coco2017/* datasets/coco"
   ]
  },
  {
   "cell_type": "code",
   "execution_count": 1,
   "metadata": {},
   "outputs": [],
   "source": [
    "!rm -r logs/coco"
   ]
  },
  {
   "cell_type": "code",
   "execution_count": null,
   "metadata": {},
   "outputs": [
    {
     "name": "stdout",
     "output_type": "stream",
     "text": [
      "loading annotations into memory...\n",
      "Done (t=13.27s)\n",
      "creating index...\n",
      "index created!\n",
      "loading annotations into memory...\n",
      "Done (t=0.45s)\n",
      "creating index...\n",
      "index created!\n",
      "[Info] initializing weights...\n",
      "Step: 999. Epoch: 0/100. Iteration: 1000/7392. Cls loss: 1.08131. Reg loss: 2.83checkpoint...\n",
      "Step: 1999. Epoch: 0/100. Iteration: 2000/7392. Cls loss: 1.17367. Reg loss: 2.5checkpoint...\n",
      "Step: 2999. Epoch: 0/100. Iteration: 3000/7392. Cls loss: 0.91290. Reg loss: 2.7checkpoint...\n",
      "Step: 3999. Epoch: 0/100. Iteration: 4000/7392. Cls loss: 0.88844. Reg loss: 2.5checkpoint...\n",
      "Step: 4999. Epoch: 0/100. Iteration: 5000/7392. Cls loss: 0.90442. Reg loss: 2.5checkpoint...\n",
      "Step: 5431. Epoch: 0/100. Iteration: 5432/7392. Cls loss: 0.91626. Reg loss: 2.5"
     ]
    }
   ],
   "source": [
    "!python train.py \\\n",
    "-c 0 \\\n",
    "-p coco \\\n",
    "--batch_size 16 \\\n",
    "--lr 5e-4 \\\n",
    "--num_epochs 100 \\\n",
    "--data_path datasets \\\n",
    "--head_only False \\\n",
    "--save_interval 1000 \\\n",
    "#--load_weights weights/efficientdet-d0.pth"
   ]
  },
  {
   "cell_type": "code",
   "execution_count": 32,
   "metadata": {},
   "outputs": [
    {
     "name": "stdout",
     "output_type": "stream",
     "text": [
      "running coco-style evaluation on project coco, weights ./logs/coco/efficientdet-d0_0_4000.pth...\n",
      "loading annotations into memory...\n",
      "Done (t=0.51s)\n",
      "creating index...\n",
      "index created!\n",
      "100%|███████████████████████████████████████| 5000/5000 [04:11<00:00, 19.87it/s]\n",
      "Loading and preparing results...\n",
      "DONE (t=2.95s)\n",
      "creating index...\n",
      "index created!\n",
      "BBox\n",
      "Running per image evaluation...\n",
      "Evaluate annotation type *bbox*\n",
      "DONE (t=83.29s).\n",
      "Accumulating evaluation results...\n",
      "DONE (t=7.83s).\n",
      " Average Precision  (AP) @[ IoU=0.50:0.95 | area=   all | maxDets=100 ] = 0.291\n",
      " Average Precision  (AP) @[ IoU=0.50      | area=   all | maxDets=100 ] = 0.462\n",
      " Average Precision  (AP) @[ IoU=0.75      | area=   all | maxDets=100 ] = 0.305\n",
      " Average Precision  (AP) @[ IoU=0.50:0.95 | area= small | maxDets=100 ] = 0.112\n",
      " Average Precision  (AP) @[ IoU=0.50:0.95 | area=medium | maxDets=100 ] = 0.344\n",
      " Average Precision  (AP) @[ IoU=0.50:0.95 | area= large | maxDets=100 ] = 0.459\n",
      " Average Recall     (AR) @[ IoU=0.50:0.95 | area=   all | maxDets=  1 ] = 0.262\n",
      " Average Recall     (AR) @[ IoU=0.50:0.95 | area=   all | maxDets= 10 ] = 0.396\n",
      " Average Recall     (AR) @[ IoU=0.50:0.95 | area=   all | maxDets=100 ] = 0.423\n",
      " Average Recall     (AR) @[ IoU=0.50:0.95 | area= small | maxDets=100 ] = 0.144\n",
      " Average Recall     (AR) @[ IoU=0.50:0.95 | area=medium | maxDets=100 ] = 0.512\n",
      " Average Recall     (AR) @[ IoU=0.50:0.95 | area= large | maxDets=100 ] = 0.634\n"
     ]
    }
   ],
   "source": [
    "!python coco_eval.py \\\n",
    "-p coco \\\n",
    "-c 0 \\\n",
    "-w ./logs/coco/efficientdet-d0_0_4000.pth"
   ]
  },
  {
   "cell_type": "code",
   "execution_count": null,
   "metadata": {},
   "outputs": [],
   "source": []
  }
 ],
 "metadata": {
  "kernelspec": {
   "display_name": "Python 3",
   "language": "python",
   "name": "python3"
  },
  "language_info": {
   "codemirror_mode": {
    "name": "ipython",
    "version": 3
   },
   "file_extension": ".py",
   "mimetype": "text/x-python",
   "name": "python",
   "nbconvert_exporter": "python",
   "pygments_lexer": "ipython3",
   "version": "3.6.9"
  }
 },
 "nbformat": 4,
 "nbformat_minor": 4
}
