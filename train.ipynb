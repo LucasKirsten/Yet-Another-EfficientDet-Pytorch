{
 "cells": [
  {
   "cell_type": "code",
   "execution_count": 1,
   "metadata": {},
   "outputs": [
    {
     "name": "stdout",
     "output_type": "stream",
     "text": [
      "running speed test...\n",
      "test1: model inferring and postprocessing\n",
      "inferring image for 10 times...\n",
      "0.02890784740447998 seconds, 34.592682948956806 FPS, @batch_size 1\n"
     ]
    }
   ],
   "source": [
    "# run the simple inference script\n",
    "!python efficientdet_test.py"
   ]
  },
  {
   "cell_type": "code",
   "execution_count": 2,
   "metadata": {},
   "outputs": [
    {
     "name": "stdout",
     "output_type": "stream",
     "text": [
      "mkdir: cannot create directory ‘datasets’: File exists\n",
      "mkdir: cannot create directory ‘datasets/coco’: File exists\n",
      "ln: failed to create symbolic link 'datasets/coco/annotations': File exists\n",
      "ln: failed to create symbolic link 'datasets/coco/annotations_trainval2017.zip': File exists\n",
      "ln: failed to create symbolic link 'datasets/coco/test2017': File exists\n",
      "ln: failed to create symbolic link 'datasets/coco/test2017.zip': File exists\n",
      "ln: failed to create symbolic link 'datasets/coco/train2017': File exists\n",
      "ln: failed to create symbolic link 'datasets/coco/train2017.zip': File exists\n",
      "ln: failed to create symbolic link 'datasets/coco/val2017': File exists\n",
      "ln: failed to create symbolic link 'datasets/coco/val2017.zip': File exists\n"
     ]
    }
   ],
   "source": [
    "#!mkdir datasets datasets/coco\n",
    "!ln -s /datasets/dataset/coco2017/* datasets/coco"
   ]
  },
  {
   "cell_type": "code",
   "execution_count": null,
   "metadata": {},
   "outputs": [
    {
     "name": "stdout",
     "output_type": "stream",
     "text": [
      "loading annotations into memory...\n",
      "Done (t=13.12s)\n",
      "creating index...\n",
      "index created!\n",
      "loading annotations into memory...\n",
      "Done (t=0.45s)\n",
      "creating index...\n",
      "index created!\n",
      "[Info] initializing weights...\n",
      "[Info] freezed backbone\n",
      "Step: 331. Epoch: 0/10. Iteration: 332/3696. Cls loss: 1.24903. Reg loss: 3.9468"
     ]
    }
   ],
   "source": [
    "!python train.py \\\n",
    "-c 0 \\\n",
    "-p coco \\\n",
    "--batch_size 32 \\\n",
    "--lr 1e-3 \\\n",
    "--num_epochs 10 \\\n",
    "--data_path datasets \\\n",
    "--head_only True \\\n",
    "--save_interval 1000\n",
    "#--load_weights weights/efficientdet-d0.pth \\"
   ]
  },
  {
   "cell_type": "code",
   "execution_count": null,
   "metadata": {},
   "outputs": [],
   "source": [
    "!python coco_eval.py \\\n",
    "-p coco \\\n",
    "-c 0 \\\n",
    "-w logs/coco/efficientdet-d0_0_2000.pth"
   ]
  }
 ],
 "metadata": {
  "kernelspec": {
   "display_name": "Python 3",
   "language": "python",
   "name": "python3"
  },
  "language_info": {
   "codemirror_mode": {
    "name": "ipython",
    "version": 3
   },
   "file_extension": ".py",
   "mimetype": "text/x-python",
   "name": "python",
   "nbconvert_exporter": "python",
   "pygments_lexer": "ipython3",
   "version": "3.6.9"
  }
 },
 "nbformat": 4,
 "nbformat_minor": 4
}
